{
 "cells": [
  {
   "cell_type": "code",
   "execution_count": 1,
   "metadata": {},
   "outputs": [],
   "source": [
    "import pandas as pd\n",
    "import numpy as np"
   ]
  },
  {
   "cell_type": "code",
   "execution_count": 2,
   "metadata": {},
   "outputs": [],
   "source": [
    "df = pd.read_csv('teamdf1000games.csv', sep=',', index_col = 0)"
   ]
  },
  {
   "cell_type": "code",
   "execution_count": 3,
   "metadata": {},
   "outputs": [],
   "source": [
    "df.drop(['index', 'Result', 'Rk', 'Date','Tm', 'Opp'], axis=1, inplace= True)"
   ]
  },
  {
   "cell_type": "code",
   "execution_count": 4,
   "metadata": {},
   "outputs": [],
   "source": [
    "#cols = ['Tm', 'Opp']\n",
    "#df = pd.get_dummies(df, columns = cols)"
   ]
  },
  {
   "cell_type": "code",
   "execution_count": 5,
   "metadata": {},
   "outputs": [],
   "source": [
    "df = df[df.MP.apply(lambda x: x.isnumeric())]"
   ]
  },
  {
   "cell_type": "code",
   "execution_count": 6,
   "metadata": {},
   "outputs": [
    {
     "data": {
      "text/html": [
       "<div>\n",
       "<style scoped>\n",
       "    .dataframe tbody tr th:only-of-type {\n",
       "        vertical-align: middle;\n",
       "    }\n",
       "\n",
       "    .dataframe tbody tr th {\n",
       "        vertical-align: top;\n",
       "    }\n",
       "\n",
       "    .dataframe thead th {\n",
       "        text-align: right;\n",
       "    }\n",
       "</style>\n",
       "<table border=\"1\" class=\"dataframe\">\n",
       "  <thead>\n",
       "    <tr style=\"text-align: right;\">\n",
       "      <th></th>\n",
       "      <th>MP</th>\n",
       "      <th>FG</th>\n",
       "      <th>FGA</th>\n",
       "      <th>FG%</th>\n",
       "      <th>2P</th>\n",
       "      <th>2PA</th>\n",
       "      <th>2P%</th>\n",
       "      <th>3P</th>\n",
       "      <th>3PA</th>\n",
       "      <th>3P%</th>\n",
       "      <th>...</th>\n",
       "      <th>2P.1</th>\n",
       "      <th>2PA.1</th>\n",
       "      <th>2P%.1</th>\n",
       "      <th>3P.1</th>\n",
       "      <th>3PA.1</th>\n",
       "      <th>3P%.1</th>\n",
       "      <th>FT.1</th>\n",
       "      <th>FTA.1</th>\n",
       "      <th>FT%.1</th>\n",
       "      <th>PTS.1</th>\n",
       "    </tr>\n",
       "  </thead>\n",
       "  <tbody>\n",
       "    <tr>\n",
       "      <th>0</th>\n",
       "      <td>240</td>\n",
       "      <td>46</td>\n",
       "      <td>102</td>\n",
       "      <td>.451</td>\n",
       "      <td>40</td>\n",
       "      <td>78</td>\n",
       "      <td>.513</td>\n",
       "      <td>6</td>\n",
       "      <td>24</td>\n",
       "      <td>.250</td>\n",
       "      <td>...</td>\n",
       "      <td>26</td>\n",
       "      <td>51</td>\n",
       "      <td>.510</td>\n",
       "      <td>11</td>\n",
       "      <td>40</td>\n",
       "      <td>.275</td>\n",
       "      <td>12</td>\n",
       "      <td>16</td>\n",
       "      <td>.750</td>\n",
       "      <td>97</td>\n",
       "    </tr>\n",
       "    <tr>\n",
       "      <th>1</th>\n",
       "      <td>240</td>\n",
       "      <td>37</td>\n",
       "      <td>91</td>\n",
       "      <td>.407</td>\n",
       "      <td>26</td>\n",
       "      <td>51</td>\n",
       "      <td>.510</td>\n",
       "      <td>11</td>\n",
       "      <td>40</td>\n",
       "      <td>.275</td>\n",
       "      <td>...</td>\n",
       "      <td>40</td>\n",
       "      <td>78</td>\n",
       "      <td>.513</td>\n",
       "      <td>6</td>\n",
       "      <td>24</td>\n",
       "      <td>.250</td>\n",
       "      <td>12</td>\n",
       "      <td>15</td>\n",
       "      <td>.800</td>\n",
       "      <td>110</td>\n",
       "    </tr>\n",
       "    <tr>\n",
       "      <th>2</th>\n",
       "      <td>240</td>\n",
       "      <td>32</td>\n",
       "      <td>86</td>\n",
       "      <td>.372</td>\n",
       "      <td>21</td>\n",
       "      <td>52</td>\n",
       "      <td>.404</td>\n",
       "      <td>11</td>\n",
       "      <td>34</td>\n",
       "      <td>.324</td>\n",
       "      <td>...</td>\n",
       "      <td>32</td>\n",
       "      <td>54</td>\n",
       "      <td>.593</td>\n",
       "      <td>15</td>\n",
       "      <td>35</td>\n",
       "      <td>.429</td>\n",
       "      <td>10</td>\n",
       "      <td>10</td>\n",
       "      <td>1.000</td>\n",
       "      <td>119</td>\n",
       "    </tr>\n",
       "    <tr>\n",
       "      <th>3</th>\n",
       "      <td>240</td>\n",
       "      <td>47</td>\n",
       "      <td>89</td>\n",
       "      <td>.528</td>\n",
       "      <td>32</td>\n",
       "      <td>54</td>\n",
       "      <td>.593</td>\n",
       "      <td>15</td>\n",
       "      <td>35</td>\n",
       "      <td>.429</td>\n",
       "      <td>...</td>\n",
       "      <td>21</td>\n",
       "      <td>52</td>\n",
       "      <td>.404</td>\n",
       "      <td>11</td>\n",
       "      <td>34</td>\n",
       "      <td>.324</td>\n",
       "      <td>12</td>\n",
       "      <td>18</td>\n",
       "      <td>.667</td>\n",
       "      <td>87</td>\n",
       "    </tr>\n",
       "    <tr>\n",
       "      <th>4</th>\n",
       "      <td>240</td>\n",
       "      <td>37</td>\n",
       "      <td>94</td>\n",
       "      <td>.394</td>\n",
       "      <td>31</td>\n",
       "      <td>70</td>\n",
       "      <td>.443</td>\n",
       "      <td>6</td>\n",
       "      <td>24</td>\n",
       "      <td>.250</td>\n",
       "      <td>...</td>\n",
       "      <td>31</td>\n",
       "      <td>58</td>\n",
       "      <td>.534</td>\n",
       "      <td>12</td>\n",
       "      <td>27</td>\n",
       "      <td>.444</td>\n",
       "      <td>12</td>\n",
       "      <td>13</td>\n",
       "      <td>.923</td>\n",
       "      <td>110</td>\n",
       "    </tr>\n",
       "  </tbody>\n",
       "</table>\n",
       "<p>5 rows × 27 columns</p>\n",
       "</div>"
      ],
      "text/plain": [
       "    MP  FG  FGA   FG%  2P 2PA   2P%  3P 3PA   3P%  ...  2P.1 2PA.1 2P%.1 3P.1  \\\n",
       "0  240  46  102  .451  40  78  .513   6  24  .250  ...    26    51  .510   11   \n",
       "1  240  37   91  .407  26  51  .510  11  40  .275  ...    40    78  .513    6   \n",
       "2  240  32   86  .372  21  52  .404  11  34  .324  ...    32    54  .593   15   \n",
       "3  240  47   89  .528  32  54  .593  15  35  .429  ...    21    52  .404   11   \n",
       "4  240  37   94  .394  31  70  .443   6  24  .250  ...    31    58  .534   12   \n",
       "\n",
       "  3PA.1 3P%.1 FT.1 FTA.1  FT%.1 PTS.1  \n",
       "0    40  .275   12    16   .750    97  \n",
       "1    24  .250   12    15   .800   110  \n",
       "2    35  .429   10    10  1.000   119  \n",
       "3    34  .324   12    18   .667    87  \n",
       "4    27  .444   12    13   .923   110  \n",
       "\n",
       "[5 rows x 27 columns]"
      ]
     },
     "execution_count": 6,
     "metadata": {},
     "output_type": "execute_result"
    }
   ],
   "source": [
    "df.head()"
   ]
  },
  {
   "cell_type": "code",
   "execution_count": 7,
   "metadata": {},
   "outputs": [
    {
     "data": {
      "text/plain": [
       "array(['MP', 'FG', 'FGA', 'FG%', '2P', '2PA', '2P%', '3P', '3PA', '3P%',\n",
       "       'FT', 'FTA', 'FT%', 'PTS', 'FG.1', 'FGA.1', 'FG%.1', '2P.1',\n",
       "       '2PA.1', '2P%.1', '3P.1', '3PA.1', '3P%.1', 'FT.1', 'FTA.1',\n",
       "       'FT%.1', 'PTS.1'], dtype=object)"
      ]
     },
     "execution_count": 7,
     "metadata": {},
     "output_type": "execute_result"
    }
   ],
   "source": [
    "df.columns.values"
   ]
  },
  {
   "cell_type": "code",
   "execution_count": 8,
   "metadata": {},
   "outputs": [],
   "source": [
    "df = df.astype(float)"
   ]
  },
  {
   "cell_type": "code",
   "execution_count": 9,
   "metadata": {},
   "outputs": [],
   "source": [
    "df ['W/L'] = np.sign(df[\"PTS\"] - df[\"PTS.1\"])\n"
   ]
  },
  {
   "cell_type": "code",
   "execution_count": 10,
   "metadata": {},
   "outputs": [
    {
     "data": {
      "text/html": [
       "<div>\n",
       "<style scoped>\n",
       "    .dataframe tbody tr th:only-of-type {\n",
       "        vertical-align: middle;\n",
       "    }\n",
       "\n",
       "    .dataframe tbody tr th {\n",
       "        vertical-align: top;\n",
       "    }\n",
       "\n",
       "    .dataframe thead th {\n",
       "        text-align: right;\n",
       "    }\n",
       "</style>\n",
       "<table border=\"1\" class=\"dataframe\">\n",
       "  <thead>\n",
       "    <tr style=\"text-align: right;\">\n",
       "      <th></th>\n",
       "      <th>MP</th>\n",
       "      <th>FG</th>\n",
       "      <th>FGA</th>\n",
       "      <th>FG%</th>\n",
       "      <th>2P</th>\n",
       "      <th>2PA</th>\n",
       "      <th>2P%</th>\n",
       "      <th>3P</th>\n",
       "      <th>3PA</th>\n",
       "      <th>3P%</th>\n",
       "      <th>...</th>\n",
       "      <th>2PA.1</th>\n",
       "      <th>2P%.1</th>\n",
       "      <th>3P.1</th>\n",
       "      <th>3PA.1</th>\n",
       "      <th>3P%.1</th>\n",
       "      <th>FT.1</th>\n",
       "      <th>FTA.1</th>\n",
       "      <th>FT%.1</th>\n",
       "      <th>PTS.1</th>\n",
       "      <th>W/L</th>\n",
       "    </tr>\n",
       "  </thead>\n",
       "  <tbody>\n",
       "    <tr>\n",
       "      <th>0</th>\n",
       "      <td>240.0</td>\n",
       "      <td>46.0</td>\n",
       "      <td>102.0</td>\n",
       "      <td>0.451</td>\n",
       "      <td>40.0</td>\n",
       "      <td>78.0</td>\n",
       "      <td>0.513</td>\n",
       "      <td>6.0</td>\n",
       "      <td>24.0</td>\n",
       "      <td>0.250</td>\n",
       "      <td>...</td>\n",
       "      <td>51.0</td>\n",
       "      <td>0.510</td>\n",
       "      <td>11.0</td>\n",
       "      <td>40.0</td>\n",
       "      <td>0.275</td>\n",
       "      <td>12.0</td>\n",
       "      <td>16.0</td>\n",
       "      <td>0.750</td>\n",
       "      <td>97.0</td>\n",
       "      <td>1.0</td>\n",
       "    </tr>\n",
       "    <tr>\n",
       "      <th>1</th>\n",
       "      <td>240.0</td>\n",
       "      <td>37.0</td>\n",
       "      <td>91.0</td>\n",
       "      <td>0.407</td>\n",
       "      <td>26.0</td>\n",
       "      <td>51.0</td>\n",
       "      <td>0.510</td>\n",
       "      <td>11.0</td>\n",
       "      <td>40.0</td>\n",
       "      <td>0.275</td>\n",
       "      <td>...</td>\n",
       "      <td>78.0</td>\n",
       "      <td>0.513</td>\n",
       "      <td>6.0</td>\n",
       "      <td>24.0</td>\n",
       "      <td>0.250</td>\n",
       "      <td>12.0</td>\n",
       "      <td>15.0</td>\n",
       "      <td>0.800</td>\n",
       "      <td>110.0</td>\n",
       "      <td>-1.0</td>\n",
       "    </tr>\n",
       "    <tr>\n",
       "      <th>2</th>\n",
       "      <td>240.0</td>\n",
       "      <td>32.0</td>\n",
       "      <td>86.0</td>\n",
       "      <td>0.372</td>\n",
       "      <td>21.0</td>\n",
       "      <td>52.0</td>\n",
       "      <td>0.404</td>\n",
       "      <td>11.0</td>\n",
       "      <td>34.0</td>\n",
       "      <td>0.324</td>\n",
       "      <td>...</td>\n",
       "      <td>54.0</td>\n",
       "      <td>0.593</td>\n",
       "      <td>15.0</td>\n",
       "      <td>35.0</td>\n",
       "      <td>0.429</td>\n",
       "      <td>10.0</td>\n",
       "      <td>10.0</td>\n",
       "      <td>1.000</td>\n",
       "      <td>119.0</td>\n",
       "      <td>-1.0</td>\n",
       "    </tr>\n",
       "    <tr>\n",
       "      <th>3</th>\n",
       "      <td>240.0</td>\n",
       "      <td>47.0</td>\n",
       "      <td>89.0</td>\n",
       "      <td>0.528</td>\n",
       "      <td>32.0</td>\n",
       "      <td>54.0</td>\n",
       "      <td>0.593</td>\n",
       "      <td>15.0</td>\n",
       "      <td>35.0</td>\n",
       "      <td>0.429</td>\n",
       "      <td>...</td>\n",
       "      <td>52.0</td>\n",
       "      <td>0.404</td>\n",
       "      <td>11.0</td>\n",
       "      <td>34.0</td>\n",
       "      <td>0.324</td>\n",
       "      <td>12.0</td>\n",
       "      <td>18.0</td>\n",
       "      <td>0.667</td>\n",
       "      <td>87.0</td>\n",
       "      <td>1.0</td>\n",
       "    </tr>\n",
       "    <tr>\n",
       "      <th>4</th>\n",
       "      <td>240.0</td>\n",
       "      <td>37.0</td>\n",
       "      <td>94.0</td>\n",
       "      <td>0.394</td>\n",
       "      <td>31.0</td>\n",
       "      <td>70.0</td>\n",
       "      <td>0.443</td>\n",
       "      <td>6.0</td>\n",
       "      <td>24.0</td>\n",
       "      <td>0.250</td>\n",
       "      <td>...</td>\n",
       "      <td>58.0</td>\n",
       "      <td>0.534</td>\n",
       "      <td>12.0</td>\n",
       "      <td>27.0</td>\n",
       "      <td>0.444</td>\n",
       "      <td>12.0</td>\n",
       "      <td>13.0</td>\n",
       "      <td>0.923</td>\n",
       "      <td>110.0</td>\n",
       "      <td>-1.0</td>\n",
       "    </tr>\n",
       "  </tbody>\n",
       "</table>\n",
       "<p>5 rows × 28 columns</p>\n",
       "</div>"
      ],
      "text/plain": [
       "      MP    FG    FGA    FG%    2P   2PA    2P%    3P   3PA    3P% ...   \\\n",
       "0  240.0  46.0  102.0  0.451  40.0  78.0  0.513   6.0  24.0  0.250 ...    \n",
       "1  240.0  37.0   91.0  0.407  26.0  51.0  0.510  11.0  40.0  0.275 ...    \n",
       "2  240.0  32.0   86.0  0.372  21.0  52.0  0.404  11.0  34.0  0.324 ...    \n",
       "3  240.0  47.0   89.0  0.528  32.0  54.0  0.593  15.0  35.0  0.429 ...    \n",
       "4  240.0  37.0   94.0  0.394  31.0  70.0  0.443   6.0  24.0  0.250 ...    \n",
       "\n",
       "   2PA.1  2P%.1  3P.1  3PA.1  3P%.1  FT.1  FTA.1  FT%.1  PTS.1  W/L  \n",
       "0   51.0  0.510  11.0   40.0  0.275  12.0   16.0  0.750   97.0  1.0  \n",
       "1   78.0  0.513   6.0   24.0  0.250  12.0   15.0  0.800  110.0 -1.0  \n",
       "2   54.0  0.593  15.0   35.0  0.429  10.0   10.0  1.000  119.0 -1.0  \n",
       "3   52.0  0.404  11.0   34.0  0.324  12.0   18.0  0.667   87.0  1.0  \n",
       "4   58.0  0.534  12.0   27.0  0.444  12.0   13.0  0.923  110.0 -1.0  \n",
       "\n",
       "[5 rows x 28 columns]"
      ]
     },
     "execution_count": 10,
     "metadata": {},
     "output_type": "execute_result"
    }
   ],
   "source": [
    "df.head()"
   ]
  },
  {
   "cell_type": "code",
   "execution_count": 11,
   "metadata": {},
   "outputs": [],
   "source": [
    "df['PTS'] = df['PTS']/240\n",
    "df['FG'] = df['FG']/240\n",
    "df['FGA'] = df['FGA']/240\n",
    "df['2P'] = df['2P']/240\n",
    "df['2PA'] = df['2PA']/240\n",
    "df['3P'] = df['3P']/240\n",
    "df['3PA'] = df['3PA']/240\n",
    "df['FT'] = df['FT']/240\n",
    "df['FTA'] = df['FTA']/240\n",
    "df['PTS.1'] = df['PTS.1']/240\n",
    "df['FG.1'] = df['FG.1']/240\n",
    "df['FGA.1'] = df['FGA.1']/240\n",
    "df['2P.1'] = df['2P.1']/240\n",
    "df['2PA.1'] = df['2PA.1']/240\n",
    "df['3P.1'] = df['3P.1']/240\n",
    "df['3PA.1'] = df['3PA.1']/240\n",
    "df['FT.1'] = df['FT.1']/240\n",
    "df['FTA.1'] = df['FTA.1']/240"
   ]
  },
  {
   "cell_type": "code",
   "execution_count": 12,
   "metadata": {},
   "outputs": [],
   "source": [
    "df = df.drop('MP', axis=1)"
   ]
  },
  {
   "cell_type": "code",
   "execution_count": 13,
   "metadata": {},
   "outputs": [],
   "source": [
    "df.dropna(axis = 0, inplace=True)"
   ]
  },
  {
   "cell_type": "code",
   "execution_count": 14,
   "metadata": {},
   "outputs": [],
   "source": [
    "#df.to_csv('teamdf1000games_cleaned.csv', sep = ',')"
   ]
  },
  {
   "cell_type": "code",
   "execution_count": 15,
   "metadata": {},
   "outputs": [],
   "source": [
    "y = df['W/L']\n",
    "y = y.values.reshape(1, -1).flatten()\n",
    "\n",
    "X = df.drop(\"W/L\", axis=1)"
   ]
  },
  {
   "cell_type": "code",
   "execution_count": 16,
   "metadata": {},
   "outputs": [],
   "source": [
    "from sklearn.model_selection import train_test_split\n",
    "#from sklearn.preprocessing import StandardScaler"
   ]
  },
  {
   "cell_type": "code",
   "execution_count": 17,
   "metadata": {},
   "outputs": [],
   "source": [
    "#sc_X = StandardScaler()\n",
    "#X_std = sc_X.fit_transform(X)"
   ]
  },
  {
   "cell_type": "code",
   "execution_count": 18,
   "metadata": {},
   "outputs": [],
   "source": [
    "X_train, X_test, y_train, y_test = train_test_split(X, y, test_size = 0.3) "
   ]
  },
  {
   "cell_type": "code",
   "execution_count": 19,
   "metadata": {},
   "outputs": [],
   "source": [
    "#from sklearn.svm import SVC\n",
    "from sklearn.linear_model import LogisticRegression\n",
    "#import xgboost as xgb"
   ]
  },
  {
   "cell_type": "code",
   "execution_count": 20,
   "metadata": {},
   "outputs": [],
   "source": [
    "clf_LR = LogisticRegression()"
   ]
  },
  {
   "cell_type": "code",
   "execution_count": 21,
   "metadata": {
    "scrolled": false
   },
   "outputs": [
    {
     "data": {
      "text/plain": [
       "LogisticRegression(C=1.0, class_weight=None, dual=False, fit_intercept=True,\n",
       "          intercept_scaling=1, max_iter=100, multi_class='ovr', n_jobs=1,\n",
       "          penalty='l2', random_state=None, solver='liblinear', tol=0.0001,\n",
       "          verbose=0, warm_start=False)"
      ]
     },
     "execution_count": 21,
     "metadata": {},
     "output_type": "execute_result"
    }
   ],
   "source": [
    "clf_LR.fit(X_train, y_train)"
   ]
  },
  {
   "cell_type": "code",
   "execution_count": 22,
   "metadata": {},
   "outputs": [],
   "source": [
    "from sklearn.model_selection import cross_val_score, cross_val_predict\n",
    "from sklearn.metrics import accuracy_score, classification_report, confusion_matrix"
   ]
  },
  {
   "cell_type": "code",
   "execution_count": 23,
   "metadata": {},
   "outputs": [],
   "source": [
    "def print_score(clf, X_train, y_train, X_test, y_test, train=True):\n",
    "    '''\n",
    "    print the accuracy score, classification report and confusion matrix of classifier\n",
    "    '''\n",
    "    if train:\n",
    "        '''\n",
    "        training performance\n",
    "        '''\n",
    "        print(\"Train Result:\\n\")\n",
    "        print(\"accuracy score: {0:.4f}\\n\".format(accuracy_score(y_train, clf.predict(X_train))))\n",
    "        print(\"Classification Report: \\n {}\\n\".format(classification_report(y_train, clf.predict(X_train))))\n",
    "        print(\"Confusion Matrix: \\n {}\\n\".format(confusion_matrix(y_train, clf.predict(X_train))))\n",
    "\n",
    "        res = cross_val_score(clf, X_train, y_train, cv=10, scoring='accuracy')\n",
    "        print(\"Average Accuracy: \\t {0:.4f}\".format(np.mean(res)))\n",
    "        print(\"Accuracy SD: \\t\\t {0:.4f}\".format(np.std(res)))\n",
    "        \n",
    "    elif train==False:\n",
    "        '''\n",
    "        test performance\n",
    "        '''\n",
    "        print(\"Test Result:\\n\")        \n",
    "        print(\"accuracy score: {0:.4f}\\n\".format(accuracy_score(y_test, clf.predict(X_test))))\n",
    "        print(\"Classification Report: \\n {}\\n\".format(classification_report(y_test, clf.predict(X_test))))\n",
    "        print(\"Confusion Matrix: \\n {}\\n\".format(confusion_matrix(y_test, clf.predict(X_test))))  "
   ]
  },
  {
   "cell_type": "code",
   "execution_count": 24,
   "metadata": {},
   "outputs": [
    {
     "name": "stdout",
     "output_type": "stream",
     "text": [
      "Train Result:\n",
      "\n",
      "accuracy score: 0.9804\n",
      "\n",
      "Classification Report: \n",
      "              precision    recall  f1-score   support\n",
      "\n",
      "       -1.0       0.98      0.98      0.98     24155\n",
      "        1.0       0.98      0.98      0.98     24173\n",
      "\n",
      "avg / total       0.98      0.98      0.98     48328\n",
      "\n",
      "\n",
      "Confusion Matrix: \n",
      " [[23670   485]\n",
      " [  462 23711]]\n",
      "\n",
      "Average Accuracy: \t 0.9789\n",
      "Accuracy SD: \t\t 0.0020\n"
     ]
    }
   ],
   "source": [
    "print_score(clf_LR, X_train, y_train, X_test, y_test, train=True)"
   ]
  },
  {
   "cell_type": "code",
   "execution_count": 25,
   "metadata": {},
   "outputs": [
    {
     "name": "stdout",
     "output_type": "stream",
     "text": [
      "Test Result:\n",
      "\n",
      "accuracy score: 0.9796\n",
      "\n",
      "Classification Report: \n",
      "              precision    recall  f1-score   support\n",
      "\n",
      "       -1.0       0.98      0.98      0.98     10346\n",
      "        1.0       0.98      0.98      0.98     10367\n",
      "\n",
      "avg / total       0.98      0.98      0.98     20713\n",
      "\n",
      "\n",
      "Confusion Matrix: \n",
      " [[10133   213]\n",
      " [  210 10157]]\n",
      "\n"
     ]
    }
   ],
   "source": [
    "print_score(clf_LR, X_train, y_train, X_test, y_test, train=False)"
   ]
  },
  {
   "cell_type": "code",
   "execution_count": 26,
   "metadata": {},
   "outputs": [],
   "source": [
    "df_test = pd.read_csv('teamdf_playoff_games.csv', sep=',', index_col = 0)\n",
    "\n",
    "df_test.drop(['index', 'Result', 'Rk', 'Date','Tm', 'Opp'], axis=1, inplace= True)\n",
    "#cols = ['Tm', 'Opp']\n",
    "#df = pd.get_dummies(df, columns = cols)\n",
    "\n",
    "df_test = df_test[df_test.MP.apply(lambda x: x.isnumeric())]\n",
    "df_test = df_test.astype(float)\n",
    "df_test ['W/L'] = np.sign(df_test[\"PTS\"] - df_test[\"PTS.1\"])\n"
   ]
  },
  {
   "cell_type": "code",
   "execution_count": 27,
   "metadata": {},
   "outputs": [],
   "source": [
    "df_test['PTS'] = df_test['PTS']/240\n",
    "df_test['FG'] = df_test['FG']/240\n",
    "df_test['FGA'] = df_test['FGA']/240\n",
    "df_test['2P'] = df_test['2P']/240\n",
    "df_test['2PA'] = df_test['2PA']/240\n",
    "df_test['3P'] = df_test['3P']/240\n",
    "df['3PA'] = df['3PA']/240\n",
    "df_test['FT'] = df_test['FT']/240\n",
    "df_test['FTA'] = df_test['FTA']/240\n",
    "df_test['PTS.1'] = df_test['PTS.1']/240\n",
    "df_test['FG.1'] = df_test['FG.1']/240\n",
    "df_test['FGA.1'] = df_test['FGA.1']/240\n",
    "df_test['2P.1'] = df_test['2P.1']/240\n",
    "df_test['2PA.1'] = df_test['2PA.1']/240\n",
    "df_test['3P.1'] = df_test['3P.1']/240\n",
    "df_test['3PA.1'] = df_test['3PA.1']/240\n",
    "df_test['FT.1'] = df_test['FT.1']/240\n",
    "df_test['FTA.1'] = df_test['FTA.1']/240\n",
    "\n",
    "df_test = df_test.drop('MP', axis=1)\n",
    "\n",
    "df_test.dropna(axis = 0, inplace=True)\n",
    "\n",
    "#df.to_csv('teamdf1000games_cleaned.csv', sep = ',')\n",
    "\n",
    "y_t = df_test['W/L']\n",
    "y_t = y_t.values.reshape(1, -1).flatten()\n",
    "\n",
    "X_t = df_test.drop(\"W/L\", axis=1)"
   ]
  },
  {
   "cell_type": "code",
   "execution_count": 28,
   "metadata": {},
   "outputs": [
    {
     "name": "stdout",
     "output_type": "stream",
     "text": [
      "Test Result:\n",
      "\n",
      "accuracy score: 0.4959\n",
      "\n",
      "Classification Report: \n",
      "              precision    recall  f1-score   support\n",
      "\n",
      "       -1.0       0.00      0.00      0.00       489\n",
      "        1.0       0.50      1.00      0.66       481\n",
      "\n",
      "avg / total       0.25      0.50      0.33       970\n",
      "\n",
      "\n",
      "Confusion Matrix: \n",
      " [[  0 489]\n",
      " [  0 481]]\n",
      "\n"
     ]
    },
    {
     "name": "stderr",
     "output_type": "stream",
     "text": [
      "C:\\Users\\Nikhil\\AppData\\Local\\conda\\conda\\envs\\MachineLearningTutorials\\lib\\site-packages\\sklearn\\metrics\\classification.py:1135: UndefinedMetricWarning: Precision and F-score are ill-defined and being set to 0.0 in labels with no predicted samples.\n",
      "  'precision', 'predicted', average, warn_for)\n"
     ]
    }
   ],
   "source": [
    "print(\"Test Result:\\n\")        \n",
    "print(\"accuracy score: {0:.4f}\\n\".format(accuracy_score(y_t, clf_LR.predict(X_t))))\n",
    "print(\"Classification Report: \\n {}\\n\".format(classification_report(y_t, clf_LR.predict(X_t))))\n",
    "print(\"Confusion Matrix: \\n {}\\n\".format(confusion_matrix(y_t, clf_LR.predict(X_t))))"
   ]
  }
 ],
 "metadata": {
  "kernelspec": {
   "display_name": "Python 3",
   "language": "python",
   "name": "python3"
  },
  "language_info": {
   "codemirror_mode": {
    "name": "ipython",
    "version": 3
   },
   "file_extension": ".py",
   "mimetype": "text/x-python",
   "name": "python",
   "nbconvert_exporter": "python",
   "pygments_lexer": "ipython3",
   "version": "3.6.5"
  }
 },
 "nbformat": 4,
 "nbformat_minor": 2
}
